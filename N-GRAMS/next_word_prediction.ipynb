{
 "cells": [
  {
   "cell_type": "code",
   "execution_count": 1,
   "metadata": {},
   "outputs": [
    {
     "name": "stderr",
     "output_type": "stream",
     "text": [
      "[nltk_data] Downloading package brown to\n",
      "[nltk_data]     /Users/thiagosantos/nltk_data...\n",
      "[nltk_data]   Package brown is already up-to-date!\n",
      "[nltk_data] Downloading package punkt to\n",
      "[nltk_data]     /Users/thiagosantos/nltk_data...\n",
      "[nltk_data]   Package punkt is already up-to-date!\n"
     ]
    },
    {
     "data": {
      "text/plain": [
       "True"
      ]
     },
     "execution_count": 1,
     "metadata": {},
     "output_type": "execute_result"
    }
   ],
   "source": [
    "import nltk\n",
    "from nltk.util import ngrams\n",
    "from nltk.corpus import brown\n",
    "from collections import defaultdict, Counter\n",
    "\n",
    "nltk.download('brown')\n",
    "nltk.download('punkt')"
   ]
  },
  {
   "cell_type": "code",
   "execution_count": 3,
   "metadata": {},
   "outputs": [],
   "source": [
    "sentences = brown.sents(categories='news')[:10000]\n",
    "tokenized_sentences = [[word.lower() for word in sentence] for sentence in sentences]\n"
   ]
  },
  {
   "cell_type": "code",
   "execution_count": 6,
   "metadata": {},
   "outputs": [],
   "source": [
    "bigram_counts = Counter()\n",
    "trigram_counts = Counter()\n",
    "\n",
    "for sent in tokenized_sentences:\n",
    "    bigram_counts.update(ngrams(sent, 2))\n",
    "    trigram_counts.update(ngrams(sent, 3))"
   ]
  },
  {
   "cell_type": "code",
   "execution_count": 9,
   "metadata": {},
   "outputs": [],
   "source": [
    "def predict_next_word(w1, w2):\n",
    "    candidates = {\n",
    "        trigram[2]: count \n",
    "        for trigram, count in trigram_counts.items()\n",
    "        if trigram[0] == w1 and trigram[1] == w2\n",
    "    }\n",
    "\n",
    "    if not candidates:\n",
    "        return None\n",
    "    \n",
    "    return max(candidates, key=candidates.get)"
   ]
  },
  {
   "cell_type": "code",
   "execution_count": 15,
   "metadata": {},
   "outputs": [
    {
     "name": "stdout",
     "output_type": "stream",
     "text": [
      "None\n"
     ]
    }
   ],
   "source": [
    "print(predict_next_word('the', 'woman'))"
   ]
  },
  {
   "cell_type": "code",
   "execution_count": 17,
   "metadata": {},
   "outputs": [],
   "source": [
    "def top_k_predictions(w1, w2, k=5):\n",
    "    candidates = {\n",
    "        trigram[2]: count\n",
    "        for trigram, count in trigram_counts.items()\n",
    "        if trigram[0] == w1 and trigram[1] == w2\n",
    "    }\n",
    "\n",
    "    sorted_candidates = sorted(candidates.items(), key=lambda x: x[1], reverse=True)\n",
    "    return sorted_candidates[:k]"
   ]
  },
  {
   "cell_type": "code",
   "execution_count": 21,
   "metadata": {},
   "outputs": [
    {
     "name": "stdout",
     "output_type": "stream",
     "text": [
      "[('of', 5), ('.', 4), (',', 4)]\n"
     ]
    }
   ],
   "source": [
    "print(top_k_predictions('the', 'house', 3))"
   ]
  }
 ],
 "metadata": {
  "kernelspec": {
   "display_name": ".venv",
   "language": "python",
   "name": "python3"
  },
  "language_info": {
   "codemirror_mode": {
    "name": "ipython",
    "version": 3
   },
   "file_extension": ".py",
   "mimetype": "text/x-python",
   "name": "python",
   "nbconvert_exporter": "python",
   "pygments_lexer": "ipython3",
   "version": "3.12.7"
  }
 },
 "nbformat": 4,
 "nbformat_minor": 2
}
